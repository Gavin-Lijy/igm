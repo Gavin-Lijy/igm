{
 "cells": [
  {
   "cell_type": "code",
   "execution_count": 11,
   "metadata": {},
   "outputs": [],
   "source": [
    "import alabtools\n",
    "import os"
   ]
  },
  {
   "cell_type": "code",
   "execution_count": 12,
   "metadata": {},
   "outputs": [
    {
     "data": {
      "text/plain": [
       "'/home/jl9324/env/download/igm/HPC_scripts'"
      ]
     },
     "execution_count": 12,
     "metadata": {},
     "output_type": "execute_result"
    }
   ],
   "source": [
    "os.getcwd()"
   ]
  },
  {
   "cell_type": "code",
   "execution_count": 17,
   "metadata": {},
   "outputs": [],
   "source": [
    "hss = alabtools.HssFile('igm-model.hss')\n"
   ]
  },
  {
   "cell_type": "code",
   "execution_count": 14,
   "metadata": {},
   "outputs": [],
   "source": [
    "hss_ = alabtools.HssFile('../demo/parallel/igm-model.hss')"
   ]
  },
  {
   "cell_type": "code",
   "execution_count": 18,
   "metadata": {},
   "outputs": [
    {
     "data": {
      "text/plain": [
       "1558"
      ]
     },
     "execution_count": 18,
     "metadata": {},
     "output_type": "execute_result"
    }
   ],
   "source": [
    "len(hss_.index.copy_index)"
   ]
  },
  {
   "cell_type": "code",
   "execution_count": 19,
   "metadata": {},
   "outputs": [
    {
     "data": {
      "text/plain": [
       "3027"
      ]
     },
     "execution_count": 19,
     "metadata": {},
     "output_type": "execute_result"
    }
   ],
   "source": [
    "len(hss.index.copy_index)"
   ]
  },
  {
   "cell_type": "code",
   "execution_count": 10,
   "metadata": {},
   "outputs": [
    {
     "data": {
      "text/plain": [
       "2.0"
      ]
     },
     "execution_count": 10,
     "metadata": {},
     "output_type": "execute_result"
    }
   ],
   "source": [
    "hss.get('contact_range', 2.0)"
   ]
  },
  {
   "cell_type": "code",
   "execution_count": 20,
   "metadata": {},
   "outputs": [],
   "source": [
    "a = hss.get_index()"
   ]
  },
  {
   "cell_type": "code",
   "execution_count": 17,
   "metadata": {},
   "outputs": [
    {
     "name": "stdout",
     "output_type": "stream",
     "text": [
      "<alabtools.Index: 46 chroms, 3008 segments>\n"
     ]
    }
   ],
   "source": [
    "print(a)"
   ]
  },
  {
   "cell_type": "code",
   "execution_count": null,
   "metadata": {},
   "outputs": [],
   "source": [
    "# Python 3.6.15 | packaged by conda-forge | (default, Dec  3 2021, 18:49:41) \n",
    "# [GCC 9.4.0] on linux\n",
    "# Type \"help\", \"copyright\", \"credits\" or \"license\" for more information.\n",
    "# >>> import alabtools, numpy, scipy\n",
    "# import argparse \n",
    "#   File \"<stdin>\", line 1\n",
    "#     import argparse \n",
    "#     ^\n",
    "# SyntaxError: multiple statements found while compiling a single statement\n",
    "# >>> import alabtools, numpy, scipy\n",
    "# >>> m=alabtools.Contactmatrix('/home/jl9324/env/download/igm/demo/WTC11_HiC_2Mb.hcs')\n",
    "# >>> m\n",
    "# <alabtools.Contactmatrix: 1558 x 1558 | hg38 | -1>\n",
    "# >>> ')\n",
    "# KeyboardInterrupt\n",
    "# >>> a=alabtools.Contactmatrix('/home/jl9324/Sperm_3D_Genome_Project/wo_trimming_fanc/igm/hcs/SPC_1mb.hcs')\n",
    "# >>> a\n",
    "# <alabtools.Contactmatrix: 2971 x 2971 | hg38 | 1024000>\n",
    "# >>> a.get_index()\n",
    "# Traceback (most recent call last):\n",
    "#   File \"<stdin>\", line 1, in <module>\n",
    "# AttributeError: 'Contactmatrix' object has no attribute 'get_index'\n",
    "# >>> "
   ]
  }
 ],
 "metadata": {
  "kernelspec": {
   "display_name": "IGM",
   "language": "python",
   "name": "python3"
  },
  "language_info": {
   "codemirror_mode": {
    "name": "ipython",
    "version": 3
   },
   "file_extension": ".py",
   "mimetype": "text/x-python",
   "name": "python",
   "nbconvert_exporter": "python",
   "pygments_lexer": "ipython3",
   "version": "3.6.15"
  }
 },
 "nbformat": 4,
 "nbformat_minor": 2
}
