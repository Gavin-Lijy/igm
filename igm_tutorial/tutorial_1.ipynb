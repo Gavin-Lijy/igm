{
 "cells": [
  {
   "cell_type": "code",
   "execution_count": 9,
   "metadata": {},
   "outputs": [],
   "source": [
    "import numpy as np\n",
    "\n",
    "import igm\n",
    "\n",
    "\n",
    "import h5py\n",
    "\n",
    "import tqdm\n",
    "\n",
    "from alabtools import HssFile\n",
    "\n",
    "from igm.model import Model, Particle\n",
    "from igm.restraints import Polymer, Envelope, Steric, intraHiC, SpeckleVolume"
   ]
  },
  {
   "cell_type": "code",
   "execution_count": 2,
   "metadata": {},
   "outputs": [
    {
     "name": "stdout",
     "output_type": "stream",
     "text": [
      "Number of loci = 2094\n",
      "Number of haploid loci (number of I and J) = 1100\n"
     ]
    }
   ],
   "source": [
    "hssfilename = 'igm-model_mcrb_2.5MB.hsstest'\n",
    "\n",
    "with HssFile(hssfilename, 'r') as hss:\n",
    "\n",
    "    index = hss.index\n",
    "    chrom = hss.get_index().chrom\n",
    "    \n",
    "    radii = hss.radii  # np.array(n_particles)\n",
    "    crd = hss.coordinates  # np.array(n_particles, n_structures, 3)\n",
    "    \n",
    "n_particles = crd.shape[0]\n",
    "print('Number of loci = ' + str(n_particles))\n",
    "\n",
    "# explore the 'copy_index' object, which is crucial in all Assignment Steps\n",
    "copy_index = index.copy_index\n",
    "print('Number of haploid loci (number of I and J) = ' + str(len(copy_index)))"
   ]
  },
  {
   "cell_type": "code",
   "execution_count": 3,
   "metadata": {},
   "outputs": [],
   "source": [
    "import pickle as pkl\n",
    "\n",
    "# load the speckles data\n",
    "speckles = pkl.load(open('speckles.pkl', 'rb'))"
   ]
  },
  {
   "cell_type": "code",
   "execution_count": 4,
   "metadata": {},
   "outputs": [
    {
     "name": "stdout",
     "output_type": "stream",
     "text": [
      "[79 73 65 63 61 60 59 52 50 53 49 49 49 50 42 40 38 37 25 69 37 79 73 65\n",
      " 63 61 60 59 52 50 53 49 49 49 50 42 40 38 37 25]\n",
      "[ 0  0  0 ... 39 39 39]\n"
     ]
    }
   ],
   "source": [
    "# gives the size of each chromosome in number of beads\n",
    "# order: chr1_A, chr2_A, ..., chr19_A, chrX_A, chrY_A, chr1_B, chr2_B, ..., chr19_B\n",
    "# (sexual chromosomes on copy A)\n",
    "print(index.chrom_sizes)\n",
    "\n",
    "# gives [ 0  0  0 ... 39 39 39]\n",
    "chain_ids = np.concatenate( [ [i]*s for i, s in enumerate(index.chrom_sizes) ] )\n",
    "print(chain_ids)\n"
   ]
  },
  {
   "cell_type": "code",
   "execution_count": 16,
   "metadata": {},
   "outputs": [],
   "source": [
    "# add the speckles as particles for each model of the HSS file\n",
    "\n",
    "# In IGM, there isn't a data structure that contains all the models.\n",
    "# This is because the models are passed to LAMMPS individually.\n",
    "models = list()\n",
    "\n",
    "# loop over all the models\n",
    "for struct_id in range(hss.nstruct):\n",
    "    \n",
    "    # get the current hss model\n",
    "    model = Model(uid=struct_id)\n",
    "        \n",
    "    # adds the real particles to the model from the HSS file\n",
    "    for bead in range(hss.nbead):\n",
    "        model.addParticle(crd[bead, struct_id], radii[bead],\n",
    "                          Particle.NORMAL, chainID=chain_ids[bead])\n",
    "    \n",
    "    # adds the speckles as particles to the model\n",
    "    for spe in speckles[struct_id]:\n",
    "        spe_crd, spe_r = spe\n",
    "        model.addParticle(spe_crd, spe_r, Particle.DUMMY_STATIC, chainID='speckle')\n",
    "    \n",
    "    models.append(model)"
   ]
  },
  {
   "cell_type": "code",
   "execution_count": 17,
   "metadata": {},
   "outputs": [],
   "source": [
    "# model.particles is a list of Particle objects\n",
    "for struct_id in range(hss.nstruct):\n",
    "    assert len(models[struct_id].particles) == n_particles + len(speckles[struct_id])"
   ]
  },
  {
   "cell_type": "code",
   "execution_count": 18,
   "metadata": {},
   "outputs": [
    {
     "data": {
      "text/plain": [
       "[3050.0, 2350.0, 2350.0]"
      ]
     },
     "execution_count": 18,
     "metadata": {},
     "output_type": "execute_result"
    }
   ],
   "source": [
    "# read in configuration file\n",
    "config_file = './config.json'\n",
    "cfg = igm.Config(config_file)\n",
    "\n",
    "cfg[\"model\"][\"restraints\"][\"envelope\"][\"nucleus_radius\"]"
   ]
  },
  {
   "cell_type": "code",
   "execution_count": 19,
   "metadata": {},
   "outputs": [
    {
     "name": "stdout",
     "output_type": "stream",
     "text": [
      "Steric\n"
     ]
    },
    {
     "name": "stderr",
     "output_type": "stream",
     "text": [
      "100%|██████████| 100/100 [00:00<00:00, 2997.90it/s]\n"
     ]
    }
   ],
   "source": [
    "# Initialize the restraints list\n",
    "all_restraints = []\n",
    "\n",
    "# Include the excluded volume (steric) restraint\n",
    "# define the excluded volume object\n",
    "ex = Steric(cfg.get(\"model/restraints/excluded/evfactor\"))\n",
    "\n",
    "print(ex)   # this is a igm.restraint.restraint class/object\n",
    "\n",
    "for model in tqdm.tqdm(models):\n",
    "    model.addRestraint(ex, override=True)  # add restraint to the model: which means, forces are actually added involving the particles\n",
    "    all_restraints.append(ex)  # keep track of restraints also"
   ]
  },
  {
   "cell_type": "code",
   "execution_count": 20,
   "metadata": {},
   "outputs": [
    {
     "name": "stderr",
     "output_type": "stream",
     "text": [
      "100%|██████████| 100/100 [00:00<00:00, 2421.56it/s]\n"
     ]
    }
   ],
   "source": [
    "for struct in tqdm.tqdm(range(hss.nstruct)):\n",
    "    model = models[struct]\n",
    "    speckle = speckles[struct]\n",
    "    spv_k = 1.0  # to be written in the config file\n",
    "    spv = SpeckleVolume(speckle, spv_k)\n",
    "    model.addRestraint(spv)\n",
    "    all_restraints.append(spv)"
   ]
  },
  {
   "cell_type": "code",
   "execution_count": 11,
   "metadata": {},
   "outputs": [
    {
     "name": "stdout",
     "output_type": "stream",
     "text": [
      "200\n"
     ]
    }
   ],
   "source": [
    "print(len(all_restraints))"
   ]
  },
  {
   "cell_type": "code",
   "execution_count": 12,
   "metadata": {},
   "outputs": [
    {
     "name": "stdout",
     "output_type": "stream",
     "text": [
      "Steric\n",
      "Steric\n",
      "Steric\n",
      "Steric\n",
      "Steric\n",
      "Steric\n",
      "Steric\n",
      "Steric\n",
      "Steric\n",
      "Steric\n",
      "Steric\n",
      "Steric\n",
      "Steric\n",
      "Steric\n",
      "Steric\n",
      "Steric\n",
      "Steric\n",
      "Steric\n",
      "Steric\n",
      "Steric\n",
      "Steric\n",
      "Steric\n",
      "Steric\n",
      "Steric\n",
      "Steric\n",
      "Steric\n",
      "Steric\n",
      "Steric\n",
      "Steric\n",
      "Steric\n",
      "Steric\n",
      "Steric\n",
      "Steric\n",
      "Steric\n",
      "Steric\n",
      "Steric\n",
      "Steric\n",
      "Steric\n",
      "Steric\n",
      "Steric\n",
      "Steric\n",
      "Steric\n",
      "Steric\n",
      "Steric\n",
      "Steric\n",
      "Steric\n",
      "Steric\n",
      "Steric\n",
      "Steric\n",
      "Steric\n",
      "Steric\n",
      "Steric\n",
      "Steric\n",
      "Steric\n",
      "Steric\n",
      "Steric\n",
      "Steric\n",
      "Steric\n",
      "Steric\n",
      "Steric\n",
      "Steric\n",
      "Steric\n",
      "Steric\n",
      "Steric\n",
      "Steric\n",
      "Steric\n",
      "Steric\n",
      "Steric\n",
      "Steric\n",
      "Steric\n",
      "Steric\n",
      "Steric\n",
      "Steric\n",
      "Steric\n",
      "Steric\n",
      "Steric\n",
      "Steric\n",
      "Steric\n",
      "Steric\n",
      "Steric\n",
      "Steric\n",
      "Steric\n",
      "Steric\n",
      "Steric\n",
      "Steric\n",
      "Steric\n",
      "Steric\n",
      "Steric\n",
      "Steric\n",
      "Steric\n",
      "Steric\n",
      "Steric\n",
      "Steric\n",
      "Steric\n",
      "Steric\n",
      "Steric\n",
      "Steric\n",
      "Steric\n",
      "Steric\n",
      "Steric\n",
      "SpeckleVolume\n",
      "SpeckleVolume\n",
      "SpeckleVolume\n",
      "SpeckleVolume\n",
      "SpeckleVolume\n",
      "SpeckleVolume\n",
      "SpeckleVolume\n",
      "SpeckleVolume\n",
      "SpeckleVolume\n",
      "SpeckleVolume\n",
      "SpeckleVolume\n",
      "SpeckleVolume\n",
      "SpeckleVolume\n",
      "SpeckleVolume\n",
      "SpeckleVolume\n",
      "SpeckleVolume\n",
      "SpeckleVolume\n",
      "SpeckleVolume\n",
      "SpeckleVolume\n",
      "SpeckleVolume\n",
      "SpeckleVolume\n",
      "SpeckleVolume\n",
      "SpeckleVolume\n",
      "SpeckleVolume\n",
      "SpeckleVolume\n",
      "SpeckleVolume\n",
      "SpeckleVolume\n",
      "SpeckleVolume\n",
      "SpeckleVolume\n",
      "SpeckleVolume\n",
      "SpeckleVolume\n",
      "SpeckleVolume\n",
      "SpeckleVolume\n",
      "SpeckleVolume\n",
      "SpeckleVolume\n",
      "SpeckleVolume\n",
      "SpeckleVolume\n",
      "SpeckleVolume\n",
      "SpeckleVolume\n",
      "SpeckleVolume\n",
      "SpeckleVolume\n",
      "SpeckleVolume\n",
      "SpeckleVolume\n",
      "SpeckleVolume\n",
      "SpeckleVolume\n",
      "SpeckleVolume\n",
      "SpeckleVolume\n",
      "SpeckleVolume\n",
      "SpeckleVolume\n",
      "SpeckleVolume\n",
      "SpeckleVolume\n",
      "SpeckleVolume\n",
      "SpeckleVolume\n",
      "SpeckleVolume\n",
      "SpeckleVolume\n",
      "SpeckleVolume\n",
      "SpeckleVolume\n",
      "SpeckleVolume\n",
      "SpeckleVolume\n",
      "SpeckleVolume\n",
      "SpeckleVolume\n",
      "SpeckleVolume\n",
      "SpeckleVolume\n",
      "SpeckleVolume\n",
      "SpeckleVolume\n",
      "SpeckleVolume\n",
      "SpeckleVolume\n",
      "SpeckleVolume\n",
      "SpeckleVolume\n",
      "SpeckleVolume\n",
      "SpeckleVolume\n",
      "SpeckleVolume\n",
      "SpeckleVolume\n",
      "SpeckleVolume\n",
      "SpeckleVolume\n",
      "SpeckleVolume\n",
      "SpeckleVolume\n",
      "SpeckleVolume\n",
      "SpeckleVolume\n",
      "SpeckleVolume\n",
      "SpeckleVolume\n",
      "SpeckleVolume\n",
      "SpeckleVolume\n",
      "SpeckleVolume\n",
      "SpeckleVolume\n",
      "SpeckleVolume\n",
      "SpeckleVolume\n",
      "SpeckleVolume\n",
      "SpeckleVolume\n",
      "SpeckleVolume\n",
      "SpeckleVolume\n",
      "SpeckleVolume\n",
      "SpeckleVolume\n",
      "SpeckleVolume\n",
      "SpeckleVolume\n",
      "SpeckleVolume\n",
      "SpeckleVolume\n",
      "SpeckleVolume\n",
      "SpeckleVolume\n",
      "SpeckleVolume\n"
     ]
    }
   ],
   "source": [
    "for restraint in all_restraints:\n",
    "    print(restraint)"
   ]
  },
  {
   "attachments": {},
   "cell_type": "markdown",
   "metadata": {},
   "source": [
    "For next week:\n",
    "\n",
    "- Change the configuration file to include the new Speckle Restraint\n",
    "- Change the Nucleolus Restraint name into a generic Spherical one\n",
    "- Run IGM\n",
    "- Lear how to check the violations, and how to check that the restraint is working"
   ]
  },
  {
   "cell_type": "markdown",
   "metadata": {},
   "source": []
  }
 ],
 "metadata": {
  "kernelspec": {
   "display_name": "base",
   "language": "python",
   "name": "python3"
  },
  "language_info": {
   "codemirror_mode": {
    "name": "ipython",
    "version": 3
   },
   "file_extension": ".py",
   "mimetype": "text/x-python",
   "name": "python",
   "nbconvert_exporter": "python",
   "pygments_lexer": "ipython3",
   "version": "3.7.3"
  },
  "orig_nbformat": 4
 },
 "nbformat": 4,
 "nbformat_minor": 2
}
